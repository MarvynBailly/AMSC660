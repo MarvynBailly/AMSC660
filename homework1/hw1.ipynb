{
 "cells": [
  {
   "cell_type": "code",
   "execution_count": 3,
   "metadata": {},
   "outputs": [],
   "source": [
    "import numpy as np"
   ]
  },
  {
   "cell_type": "markdown",
   "metadata": {},
   "source": [
    "### Question 2"
   ]
  },
  {
   "cell_type": "markdown",
   "metadata": {},
   "source": [
    "Define the tent map"
   ]
  },
  {
   "cell_type": "code",
   "execution_count": 85,
   "metadata": {},
   "outputs": [],
   "source": [
    "def tentMap(x, limit = 10, precision = 'double'):\n",
    "    if precision == 'single':\n",
    "        x = np.float32(x)\n",
    "        float_type = np.float32\n",
    "    elif precision == 'double':\n",
    "        float_type = np.float64\n",
    "    \n",
    "    seq = np.empty(limit, dtype=float_type)\n",
    "    \n",
    "    for i in range(limit):\n",
    "        seq[i] = x\n",
    "        if x < 1/2:\n",
    "            x = 2*x\n",
    "        else:\n",
    "            x = 2 - 2*x\n",
    "    return seq"
   ]
  },
  {
   "cell_type": "markdown",
   "metadata": {},
   "source": [
    "Create a $p$ period"
   ]
  },
  {
   "cell_type": "code",
   "execution_count": 49,
   "metadata": {},
   "outputs": [
    {
     "data": {
      "text/plain": [
       "array([0.11111111, 0.22222222, 0.44444444, 0.88888889, 0.22222222,\n",
       "       0.44444444, 0.88888889, 0.22222222, 0.44444444, 0.88888889,\n",
       "       0.22222222, 0.44444444, 0.88888889, 0.22222222, 0.44444444,\n",
       "       0.88888889, 0.22222222, 0.44444444, 0.88888889, 0.22222222])"
      ]
     },
     "execution_count": 49,
     "metadata": {},
     "output_type": "execute_result"
    }
   ],
   "source": [
    "p = 3\n",
    "tentMap(1/(2**3+1),20)"
   ]
  },
  {
   "cell_type": "markdown",
   "metadata": {},
   "source": [
    "Generate several long sequences with double precision"
   ]
  },
  {
   "cell_type": "code",
   "execution_count": 88,
   "metadata": {},
   "outputs": [
    {
     "name": "stdout",
     "output_type": "stream",
     "text": [
      "Average zero index: 52.81\n"
     ]
    }
   ],
   "source": [
    "numTests = 100\n",
    "leng = 80\n",
    "results = np.array([np.empty(leng) for _ in range(numTests)])\n",
    "index = 0\n",
    "\n",
    "for i in range(numTests):\n",
    "    sol = tentMap(np.random.rand(),leng,'double')\n",
    "    index += np.where(sol == 0)[0][0]\n",
    "    results[i] = sol\n",
    "    \n",
    "print(\"Average zero index: \"+str(index/numTests))"
   ]
  },
  {
   "cell_type": "markdown",
   "metadata": {},
   "source": [
    "Generate several long sequences with single precision"
   ]
  },
  {
   "cell_type": "code",
   "execution_count": 89,
   "metadata": {},
   "outputs": [
    {
     "name": "stdout",
     "output_type": "stream",
     "text": [
      "Average zero index: 24.94\n"
     ]
    }
   ],
   "source": [
    "numTests = 100\n",
    "leng = 80\n",
    "results = np.array([np.empty(leng) for _ in range(numTests)])\n",
    "index = 0\n",
    "\n",
    "for i in range(numTests):\n",
    "    sol = tentMap(np.random.rand(),leng,'single')\n",
    "    index += np.where(sol == 0)[0][0]\n",
    "    results[i] = sol\n",
    "    \n",
    "print(\"Average zero index: \"+str(index/numTests))"
   ]
  },
  {
   "cell_type": "code",
   "execution_count": null,
   "metadata": {},
   "outputs": [],
   "source": []
  }
 ],
 "metadata": {
  "kernelspec": {
   "display_name": "Python 3",
   "language": "python",
   "name": "python3"
  },
  "language_info": {
   "codemirror_mode": {
    "name": "ipython",
    "version": 3
   },
   "file_extension": ".py",
   "mimetype": "text/x-python",
   "name": "python",
   "nbconvert_exporter": "python",
   "pygments_lexer": "ipython3",
   "version": "3.11.3"
  },
  "orig_nbformat": 4
 },
 "nbformat": 4,
 "nbformat_minor": 2
}
